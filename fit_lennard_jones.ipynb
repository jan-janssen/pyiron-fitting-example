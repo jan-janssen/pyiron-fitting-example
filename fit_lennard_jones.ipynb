{
 "cells": [
  {
   "cell_type": "markdown",
   "metadata": {
    "heading_collapsed": true
   },
   "source": [
    "# Create project"
   ]
  },
  {
   "cell_type": "markdown",
   "metadata": {
    "heading_collapsed": true,
    "hidden": true
   },
   "source": [
    "## Import"
   ]
  },
  {
   "cell_type": "code",
   "execution_count": 1,
   "metadata": {
    "ExecuteTime": {
     "end_time": "2019-03-19T11:34:18.574732Z",
     "start_time": "2019-03-19T11:34:18.083044Z"
    },
    "hidden": true
   },
   "outputs": [],
   "source": [
    "%matplotlib inline"
   ]
  },
  {
   "cell_type": "code",
   "execution_count": 2,
   "metadata": {
    "ExecuteTime": {
     "end_time": "2019-03-19T11:34:19.659951Z",
     "start_time": "2019-03-19T11:34:18.579186Z"
    },
    "hidden": true
   },
   "outputs": [],
   "source": [
    "import json\n",
    "import matplotlib.pyplot as plt\n",
    "import numpy as np\n",
    "import pandas as pd\n",
    "from pyiron import Project, Atoms\n",
    "from scipy.optimize import minimize"
   ]
  },
  {
   "cell_type": "code",
   "execution_count": 3,
   "metadata": {
    "ExecuteTime": {
     "end_time": "2019-03-19T11:34:19.664970Z",
     "start_time": "2019-03-19T11:34:19.662277Z"
    },
    "hidden": true
   },
   "outputs": [],
   "source": [
    "import warnings  # ignore Lammps warnings \n",
    "warnings.filterwarnings(\"ignore\")"
   ]
  },
  {
   "cell_type": "markdown",
   "metadata": {
    "heading_collapsed": true,
    "hidden": true
   },
   "source": [
    "## Clean up"
   ]
  },
  {
   "cell_type": "code",
   "execution_count": 4,
   "metadata": {
    "ExecuteTime": {
     "end_time": "2019-03-19T11:34:20.108152Z",
     "start_time": "2019-03-19T11:34:19.669795Z"
    },
    "hidden": true
   },
   "outputs": [
    {
     "name": "stdout",
     "output_type": "stream",
     "text": [
      "This group does not exist in the HDF5 file lj_fitting\n",
      "This group does not exist in the HDF5 file lj_validation\n",
      "This group does not exist in the HDF5 file murn\n"
     ]
    }
   ],
   "source": [
    "pr = Project('fitting')\n",
    "pr.remove_jobs(recursive=True)"
   ]
  },
  {
   "cell_type": "code",
   "execution_count": 5,
   "metadata": {
    "ExecuteTime": {
     "end_time": "2019-03-19T11:34:20.478287Z",
     "start_time": "2019-03-19T11:34:20.112162Z"
    },
    "hidden": true
   },
   "outputs": [
    {
     "name": "stdout",
     "output_type": "stream",
     "text": [
      "This group does not exist in the HDF5 file strain_0_98\n",
      "This group does not exist in the HDF5 file strain_0_94\n",
      "This group does not exist in the HDF5 file strain_1_0\n",
      "This group does not exist in the HDF5 file strain_0_92\n",
      "This group does not exist in the HDF5 file strain_0_9\n",
      "This group does not exist in the HDF5 file strain_1_1\n",
      "This group does not exist in the HDF5 file strain_1_06\n",
      "This group does not exist in the HDF5 file strain_1_08\n",
      "This group does not exist in the HDF5 file strain_1_04\n",
      "This group does not exist in the HDF5 file strain_0_96\n",
      "This group does not exist in the HDF5 file strain_1_02\n"
     ]
    }
   ],
   "source": [
    "pr = Project('import')\n",
    "pr.remove_jobs(recursive=True)"
   ]
  },
  {
   "cell_type": "code",
   "execution_count": 6,
   "metadata": {
    "ExecuteTime": {
     "end_time": "2019-03-19T11:34:20.879099Z",
     "start_time": "2019-03-19T11:34:20.483197Z"
    },
    "hidden": true
   },
   "outputs": [],
   "source": [
    "pr = Project('dft')\n",
    "pr.remove_jobs(recursive=True)"
   ]
  },
  {
   "cell_type": "markdown",
   "metadata": {},
   "source": [
    "# Get fitting data "
   ]
  },
  {
   "cell_type": "markdown",
   "metadata": {},
   "source": [
    "## Create VASP calculation "
   ]
  },
  {
   "cell_type": "markdown",
   "metadata": {
    "heading_collapsed": true
   },
   "source": [
    "### Setup VASP"
   ]
  },
  {
   "cell_type": "code",
   "execution_count": 7,
   "metadata": {
    "ExecuteTime": {
     "end_time": "2019-03-19T11:34:20.893658Z",
     "start_time": "2019-03-19T11:34:20.880782Z"
    },
    "hidden": true
   },
   "outputs": [],
   "source": [
    "job_vasp = pr.create_job(job_type=pr.job_type.Vasp, job_name='vasp')"
   ]
  },
  {
   "cell_type": "code",
   "execution_count": 8,
   "metadata": {
    "ExecuteTime": {
     "end_time": "2019-03-19T11:34:20.990052Z",
     "start_time": "2019-03-19T11:34:20.896916Z"
    },
    "hidden": true
   },
   "outputs": [],
   "source": [
    "job_vasp.structure = pr.create_ase_bulk('Al')"
   ]
  },
  {
   "cell_type": "code",
   "execution_count": 9,
   "metadata": {
    "ExecuteTime": {
     "end_time": "2019-03-19T11:34:21.013740Z",
     "start_time": "2019-03-19T11:34:20.994048Z"
    },
    "hidden": true
   },
   "outputs": [
    {
     "data": {
      "text/html": [
       "<div>\n",
       "<style scoped>\n",
       "    .dataframe tbody tr th:only-of-type {\n",
       "        vertical-align: middle;\n",
       "    }\n",
       "\n",
       "    .dataframe tbody tr th {\n",
       "        vertical-align: top;\n",
       "    }\n",
       "\n",
       "    .dataframe thead th {\n",
       "        text-align: right;\n",
       "    }\n",
       "</style>\n",
       "<table border=\"1\" class=\"dataframe\">\n",
       "  <thead>\n",
       "    <tr style=\"text-align: right;\">\n",
       "      <th></th>\n",
       "      <th>Parameter</th>\n",
       "      <th>Value</th>\n",
       "      <th>Comment</th>\n",
       "    </tr>\n",
       "  </thead>\n",
       "  <tbody>\n",
       "    <tr>\n",
       "      <th>0</th>\n",
       "      <td>SYSTEM</td>\n",
       "      <td>vasp</td>\n",
       "      <td>jobname</td>\n",
       "    </tr>\n",
       "    <tr>\n",
       "      <th>1</th>\n",
       "      <td>PREC</td>\n",
       "      <td>Accurate</td>\n",
       "      <td></td>\n",
       "    </tr>\n",
       "    <tr>\n",
       "      <th>2</th>\n",
       "      <td>ALGO</td>\n",
       "      <td>Fast</td>\n",
       "      <td></td>\n",
       "    </tr>\n",
       "    <tr>\n",
       "      <th>3</th>\n",
       "      <td>ENCUT</td>\n",
       "      <td>250</td>\n",
       "      <td></td>\n",
       "    </tr>\n",
       "    <tr>\n",
       "      <th>4</th>\n",
       "      <td>LREAL</td>\n",
       "      <td>False</td>\n",
       "      <td></td>\n",
       "    </tr>\n",
       "    <tr>\n",
       "      <th>5</th>\n",
       "      <td>LWAVE</td>\n",
       "      <td>False</td>\n",
       "      <td></td>\n",
       "    </tr>\n",
       "    <tr>\n",
       "      <th>6</th>\n",
       "      <td>LORBIT</td>\n",
       "      <td>0</td>\n",
       "      <td></td>\n",
       "    </tr>\n",
       "  </tbody>\n",
       "</table>\n",
       "</div>"
      ],
      "text/plain": [
       "  Parameter     Value  Comment\n",
       "0    SYSTEM      vasp  jobname\n",
       "1      PREC  Accurate         \n",
       "2      ALGO      Fast         \n",
       "3     ENCUT       250         \n",
       "4     LREAL     False         \n",
       "5     LWAVE     False         \n",
       "6    LORBIT         0         "
      ]
     },
     "execution_count": 9,
     "metadata": {},
     "output_type": "execute_result"
    }
   ],
   "source": [
    "job_vasp.input.incar"
   ]
  },
  {
   "cell_type": "code",
   "execution_count": 10,
   "metadata": {
    "ExecuteTime": {
     "end_time": "2019-03-19T11:34:21.035574Z",
     "start_time": "2019-03-19T11:34:21.019967Z"
    },
    "hidden": true
   },
   "outputs": [
    {
     "data": {
      "text/html": [
       "<div>\n",
       "<style scoped>\n",
       "    .dataframe tbody tr th:only-of-type {\n",
       "        vertical-align: middle;\n",
       "    }\n",
       "\n",
       "    .dataframe tbody tr th {\n",
       "        vertical-align: top;\n",
       "    }\n",
       "\n",
       "    .dataframe thead th {\n",
       "        text-align: right;\n",
       "    }\n",
       "</style>\n",
       "<table border=\"1\" class=\"dataframe\">\n",
       "  <thead>\n",
       "    <tr style=\"text-align: right;\">\n",
       "      <th></th>\n",
       "      <th>Parameter</th>\n",
       "      <th>Value</th>\n",
       "      <th>Comment</th>\n",
       "    </tr>\n",
       "  </thead>\n",
       "  <tbody>\n",
       "    <tr>\n",
       "      <th>0</th>\n",
       "      <td></td>\n",
       "      <td>Kpoints file generated with pyiron</td>\n",
       "      <td></td>\n",
       "    </tr>\n",
       "    <tr>\n",
       "      <th>1</th>\n",
       "      <td></td>\n",
       "      <td>0</td>\n",
       "      <td></td>\n",
       "    </tr>\n",
       "    <tr>\n",
       "      <th>2</th>\n",
       "      <td></td>\n",
       "      <td>Monkhorst_Pack</td>\n",
       "      <td></td>\n",
       "    </tr>\n",
       "    <tr>\n",
       "      <th>3</th>\n",
       "      <td></td>\n",
       "      <td>4 4 4</td>\n",
       "      <td></td>\n",
       "    </tr>\n",
       "    <tr>\n",
       "      <th>4</th>\n",
       "      <td></td>\n",
       "      <td>0 0 0</td>\n",
       "      <td></td>\n",
       "    </tr>\n",
       "  </tbody>\n",
       "</table>\n",
       "</div>"
      ],
      "text/plain": [
       "  Parameter                               Value Comment\n",
       "0            Kpoints file generated with pyiron        \n",
       "1                                             0        \n",
       "2                                Monkhorst_Pack        \n",
       "3                                         4 4 4        \n",
       "4                                         0 0 0        "
      ]
     },
     "execution_count": 10,
     "metadata": {},
     "output_type": "execute_result"
    }
   ],
   "source": [
    "job_vasp.input.kpoints"
   ]
  },
  {
   "cell_type": "markdown",
   "metadata": {},
   "source": [
    "### Calculate Murnaghan "
   ]
  },
  {
   "cell_type": "code",
   "execution_count": 11,
   "metadata": {
    "ExecuteTime": {
     "end_time": "2019-03-19T11:34:21.078450Z",
     "start_time": "2019-03-19T11:34:21.038736Z"
    }
   },
   "outputs": [],
   "source": [
    "murn = job_vasp.create_job(job_type=pr.job_type.Murnaghan, job_name='murn')"
   ]
  },
  {
   "cell_type": "code",
   "execution_count": 12,
   "metadata": {
    "ExecuteTime": {
     "end_time": "2019-03-19T11:34:39.564598Z",
     "start_time": "2019-03-19T11:34:21.081597Z"
    }
   },
   "outputs": [
    {
     "name": "stdout",
     "output_type": "stream",
     "text": [
      "The job murn was saved and received the ID: 2398\n",
      "The job strain_0_9 was saved and received the ID: 2399\n",
      "The job strain_0_92 was saved and received the ID: 2400\n",
      "The job strain_0_94 was saved and received the ID: 2401\n",
      "The job strain_0_96 was saved and received the ID: 2402\n",
      "The job strain_0_98 was saved and received the ID: 2403\n",
      "The job strain_1_0 was saved and received the ID: 2404\n",
      "The job strain_1_02 was saved and received the ID: 2405\n",
      "The job strain_1_04 was saved and received the ID: 2406\n",
      "The job strain_1_06 was saved and received the ID: 2407\n",
      "The job strain_1_08 was saved and received the ID: 2408\n",
      "The job strain_1_1 was saved and received the ID: 2409\n",
      "job_id:  2399 finished\n",
      "job_id:  2400 finished\n",
      "job_id:  2401 finished\n",
      "job_id:  2402 finished\n",
      "job_id:  2403 finished\n",
      "job_id:  2404 finished\n",
      "job_id:  2405 finished\n",
      "job_id:  2406 finished\n",
      "job_id:  2407 finished\n",
      "job_id:  2408 finished\n",
      "job_id:  2409 finished\n"
     ]
    }
   ],
   "source": [
    "murn.run()"
   ]
  },
  {
   "cell_type": "code",
   "execution_count": 13,
   "metadata": {
    "ExecuteTime": {
     "end_time": "2019-03-19T11:34:39.879193Z",
     "start_time": "2019-03-19T11:34:39.574699Z"
    }
   },
   "outputs": [
    {
     "data": {
      "image/png": "[encoded data removed]",
      "text/plain": [
       "<Figure size 432x288 with 1 Axes>"
      ]
     },
     "metadata": {
      "needs_background": "light"
     },
     "output_type": "display_data"
    }
   ],
   "source": [
    "murn.plot()"
   ]
  },
  {
   "cell_type": "markdown",
   "metadata": {
    "heading_collapsed": true
   },
   "source": [
    "### Overview "
   ]
  },
  {
   "cell_type": "code",
   "execution_count": 14,
   "metadata": {
    "ExecuteTime": {
     "end_time": "2019-03-19T11:34:39.914591Z",
     "start_time": "2019-03-19T11:34:39.882720Z"
    },
    "hidden": true
   },
   "outputs": [
    {
     "data": {
      "text/html": [
       "<div>\n",
       "<style scoped>\n",
       "    .dataframe tbody tr th:only-of-type {\n",
       "        vertical-align: middle;\n",
       "    }\n",
       "\n",
       "    .dataframe tbody tr th {\n",
       "        vertical-align: top;\n",
       "    }\n",
       "\n",
       "    .dataframe thead th {\n",
       "        text-align: right;\n",
       "    }\n",
       "</style>\n",
       "<table border=\"1\" class=\"dataframe\">\n",
       "  <thead>\n",
       "    <tr style=\"text-align: right;\">\n",
       "      <th></th>\n",
       "      <th>id</th>\n",
       "      <th>status</th>\n",
       "      <th>chemicalformula</th>\n",
       "      <th>job</th>\n",
       "      <th>subjob</th>\n",
       "      <th>projectpath</th>\n",
       "      <th>project</th>\n",
       "      <th>timestart</th>\n",
       "      <th>timestop</th>\n",
       "      <th>totalcputime</th>\n",
       "      <th>computer</th>\n",
       "      <th>hamilton</th>\n",
       "      <th>hamversion</th>\n",
       "      <th>parentid</th>\n",
       "      <th>masterid</th>\n",
       "    </tr>\n",
       "  </thead>\n",
       "  <tbody>\n",
       "    <tr>\n",
       "      <th>0</th>\n",
       "      <td>2398</td>\n",
       "      <td>finished</td>\n",
       "      <td>Al</td>\n",
       "      <td>murn</td>\n",
       "      <td>/murn</td>\n",
       "      <td>/Users/jan/PyIron_data/projects/</td>\n",
       "      <td>2019-03-19-potential-fitting/dft/</td>\n",
       "      <td>2019-03-19 12:34:21.453839</td>\n",
       "      <td>2019-03-19 12:34:39.558371</td>\n",
       "      <td>18.0</td>\n",
       "      <td>pyiron@MacBook-Pro.local#1#11/11</td>\n",
       "      <td>Murnaghan</td>\n",
       "      <td>0.3.0</td>\n",
       "      <td>None</td>\n",
       "      <td>NaN</td>\n",
       "    </tr>\n",
       "    <tr>\n",
       "      <th>1</th>\n",
       "      <td>2399</td>\n",
       "      <td>finished</td>\n",
       "      <td>Al</td>\n",
       "      <td>strain_0_9</td>\n",
       "      <td>/strain_0_9</td>\n",
       "      <td>/Users/jan/PyIron_data/projects/</td>\n",
       "      <td>2019-03-19-potential-fitting/dft/murn_hdf5/</td>\n",
       "      <td>2019-03-19 12:34:22.341560</td>\n",
       "      <td>2019-03-19 12:34:23.031180</td>\n",
       "      <td>0.0</td>\n",
       "      <td>pyiron@MacBook-Pro.local#1</td>\n",
       "      <td>Vasp</td>\n",
       "      <td>5.4</td>\n",
       "      <td>None</td>\n",
       "      <td>2398.0</td>\n",
       "    </tr>\n",
       "    <tr>\n",
       "      <th>2</th>\n",
       "      <td>2400</td>\n",
       "      <td>finished</td>\n",
       "      <td>Al</td>\n",
       "      <td>strain_0_92</td>\n",
       "      <td>/strain_0_92</td>\n",
       "      <td>/Users/jan/PyIron_data/projects/</td>\n",
       "      <td>2019-03-19-potential-fitting/dft/murn_hdf5/</td>\n",
       "      <td>2019-03-19 12:34:23.876368</td>\n",
       "      <td>2019-03-19 12:34:24.663445</td>\n",
       "      <td>0.0</td>\n",
       "      <td>pyiron@MacBook-Pro.local#1</td>\n",
       "      <td>Vasp</td>\n",
       "      <td>5.4</td>\n",
       "      <td>None</td>\n",
       "      <td>2398.0</td>\n",
       "    </tr>\n",
       "    <tr>\n",
       "      <th>3</th>\n",
       "      <td>2401</td>\n",
       "      <td>finished</td>\n",
       "      <td>Al</td>\n",
       "      <td>strain_0_94</td>\n",
       "      <td>/strain_0_94</td>\n",
       "      <td>/Users/jan/PyIron_data/projects/</td>\n",
       "      <td>2019-03-19-potential-fitting/dft/murn_hdf5/</td>\n",
       "      <td>2019-03-19 12:34:25.642945</td>\n",
       "      <td>2019-03-19 12:34:26.326081</td>\n",
       "      <td>0.0</td>\n",
       "      <td>pyiron@MacBook-Pro.local#1</td>\n",
       "      <td>Vasp</td>\n",
       "      <td>5.4</td>\n",
       "      <td>None</td>\n",
       "      <td>2398.0</td>\n",
       "    </tr>\n",
       "    <tr>\n",
       "      <th>4</th>\n",
       "      <td>2402</td>\n",
       "      <td>finished</td>\n",
       "      <td>Al</td>\n",
       "      <td>strain_0_96</td>\n",
       "      <td>/strain_0_96</td>\n",
       "      <td>/Users/jan/PyIron_data/projects/</td>\n",
       "      <td>2019-03-19-potential-fitting/dft/murn_hdf5/</td>\n",
       "      <td>2019-03-19 12:34:27.130176</td>\n",
       "      <td>2019-03-19 12:34:27.968296</td>\n",
       "      <td>0.0</td>\n",
       "      <td>pyiron@MacBook-Pro.local#1</td>\n",
       "      <td>Vasp</td>\n",
       "      <td>5.4</td>\n",
       "      <td>None</td>\n",
       "      <td>2398.0</td>\n",
       "    </tr>\n",
       "    <tr>\n",
       "      <th>5</th>\n",
       "      <td>2403</td>\n",
       "      <td>finished</td>\n",
       "      <td>Al</td>\n",
       "      <td>strain_0_98</td>\n",
       "      <td>/strain_0_98</td>\n",
       "      <td>/Users/jan/PyIron_data/projects/</td>\n",
       "      <td>2019-03-19-potential-fitting/dft/murn_hdf5/</td>\n",
       "      <td>2019-03-19 12:34:28.774276</td>\n",
       "      <td>2019-03-19 12:34:29.556422</td>\n",
       "      <td>0.0</td>\n",
       "      <td>pyiron@MacBook-Pro.local#1</td>\n",
       "      <td>Vasp</td>\n",
       "      <td>5.4</td>\n",
       "      <td>None</td>\n",
       "      <td>2398.0</td>\n",
       "    </tr>\n",
       "    <tr>\n",
       "      <th>6</th>\n",
       "      <td>2404</td>\n",
       "      <td>finished</td>\n",
       "      <td>Al</td>\n",
       "      <td>strain_1_0</td>\n",
       "      <td>/strain_1_0</td>\n",
       "      <td>/Users/jan/PyIron_data/projects/</td>\n",
       "      <td>2019-03-19-potential-fitting/dft/murn_hdf5/</td>\n",
       "      <td>2019-03-19 12:34:30.357031</td>\n",
       "      <td>2019-03-19 12:34:31.144887</td>\n",
       "      <td>0.0</td>\n",
       "      <td>pyiron@MacBook-Pro.local#1</td>\n",
       "      <td>Vasp</td>\n",
       "      <td>5.4</td>\n",
       "      <td>None</td>\n",
       "      <td>2398.0</td>\n",
       "    </tr>\n",
       "    <tr>\n",
       "      <th>7</th>\n",
       "      <td>2405</td>\n",
       "      <td>finished</td>\n",
       "      <td>Al</td>\n",
       "      <td>strain_1_02</td>\n",
       "      <td>/strain_1_02</td>\n",
       "      <td>/Users/jan/PyIron_data/projects/</td>\n",
       "      <td>2019-03-19-potential-fitting/dft/murn_hdf5/</td>\n",
       "      <td>2019-03-19 12:34:31.947362</td>\n",
       "      <td>2019-03-19 12:34:32.726684</td>\n",
       "      <td>0.0</td>\n",
       "      <td>pyiron@MacBook-Pro.local#1</td>\n",
       "      <td>Vasp</td>\n",
       "      <td>5.4</td>\n",
       "      <td>None</td>\n",
       "      <td>2398.0</td>\n",
       "    </tr>\n",
       "    <tr>\n",
       "      <th>8</th>\n",
       "      <td>2406</td>\n",
       "      <td>finished</td>\n",
       "      <td>Al</td>\n",
       "      <td>strain_1_04</td>\n",
       "      <td>/strain_1_04</td>\n",
       "      <td>/Users/jan/PyIron_data/projects/</td>\n",
       "      <td>2019-03-19-potential-fitting/dft/murn_hdf5/</td>\n",
       "      <td>2019-03-19 12:34:33.531379</td>\n",
       "      <td>2019-03-19 12:34:34.327368</td>\n",
       "      <td>0.0</td>\n",
       "      <td>pyiron@MacBook-Pro.local#1</td>\n",
       "      <td>Vasp</td>\n",
       "      <td>5.4</td>\n",
       "      <td>None</td>\n",
       "      <td>2398.0</td>\n",
       "    </tr>\n",
       "    <tr>\n",
       "      <th>9</th>\n",
       "      <td>2407</td>\n",
       "      <td>finished</td>\n",
       "      <td>Al</td>\n",
       "      <td>strain_1_06</td>\n",
       "      <td>/strain_1_06</td>\n",
       "      <td>/Users/jan/PyIron_data/projects/</td>\n",
       "      <td>2019-03-19-potential-fitting/dft/murn_hdf5/</td>\n",
       "      <td>2019-03-19 12:34:35.153611</td>\n",
       "      <td>2019-03-19 12:34:35.999023</td>\n",
       "      <td>0.0</td>\n",
       "      <td>pyiron@MacBook-Pro.local#1</td>\n",
       "      <td>Vasp</td>\n",
       "      <td>5.4</td>\n",
       "      <td>None</td>\n",
       "      <td>2398.0</td>\n",
       "    </tr>\n",
       "    <tr>\n",
       "      <th>10</th>\n",
       "      <td>2408</td>\n",
       "      <td>finished</td>\n",
       "      <td>Al</td>\n",
       "      <td>strain_1_08</td>\n",
       "      <td>/strain_1_08</td>\n",
       "      <td>/Users/jan/PyIron_data/projects/</td>\n",
       "      <td>2019-03-19-potential-fitting/dft/murn_hdf5/</td>\n",
       "      <td>2019-03-19 12:34:36.822039</td>\n",
       "      <td>2019-03-19 12:34:37.621577</td>\n",
       "      <td>0.0</td>\n",
       "      <td>pyiron@MacBook-Pro.local#1</td>\n",
       "      <td>Vasp</td>\n",
       "      <td>5.4</td>\n",
       "      <td>None</td>\n",
       "      <td>2398.0</td>\n",
       "    </tr>\n",
       "    <tr>\n",
       "      <th>11</th>\n",
       "      <td>2409</td>\n",
       "      <td>finished</td>\n",
       "      <td>Al</td>\n",
       "      <td>strain_1_1</td>\n",
       "      <td>/strain_1_1</td>\n",
       "      <td>/Users/jan/PyIron_data/projects/</td>\n",
       "      <td>2019-03-19-potential-fitting/dft/murn_hdf5/</td>\n",
       "      <td>2019-03-19 12:34:38.428442</td>\n",
       "      <td>2019-03-19 12:34:39.211223</td>\n",
       "      <td>0.0</td>\n",
       "      <td>pyiron@MacBook-Pro.local#1</td>\n",
       "      <td>Vasp</td>\n",
       "      <td>5.4</td>\n",
       "      <td>None</td>\n",
       "      <td>2398.0</td>\n",
       "    </tr>\n",
       "  </tbody>\n",
       "</table>\n",
       "</div>"
      ],
      "text/plain": [
       "      id    status chemicalformula          job        subjob  \\\n",
       "0   2398  finished              Al         murn         /murn   \n",
       "1   2399  finished              Al   strain_0_9   /strain_0_9   \n",
       "2   2400  finished              Al  strain_0_92  /strain_0_92   \n",
       "3   2401  finished              Al  strain_0_94  /strain_0_94   \n",
       "4   2402  finished              Al  strain_0_96  /strain_0_96   \n",
       "5   2403  finished              Al  strain_0_98  /strain_0_98   \n",
       "6   2404  finished              Al   strain_1_0   /strain_1_0   \n",
       "7   2405  finished              Al  strain_1_02  /strain_1_02   \n",
       "8   2406  finished              Al  strain_1_04  /strain_1_04   \n",
       "9   2407  finished              Al  strain_1_06  /strain_1_06   \n",
       "10  2408  finished              Al  strain_1_08  /strain_1_08   \n",
       "11  2409  finished              Al   strain_1_1   /strain_1_1   \n",
       "\n",
       "                         projectpath  \\\n",
       "0   /Users/jan/PyIron_data/projects/   \n",
       "1   /Users/jan/PyIron_data/projects/   \n",
       "2   /Users/jan/PyIron_data/projects/   \n",
       "3   /Users/jan/PyIron_data/projects/   \n",
       "4   /Users/jan/PyIron_data/projects/   \n",
       "5   /Users/jan/PyIron_data/projects/   \n",
       "6   /Users/jan/PyIron_data/projects/   \n",
       "7   /Users/jan/PyIron_data/projects/   \n",
       "8   /Users/jan/PyIron_data/projects/   \n",
       "9   /Users/jan/PyIron_data/projects/   \n",
       "10  /Users/jan/PyIron_data/projects/   \n",
       "11  /Users/jan/PyIron_data/projects/   \n",
       "\n",
       "                                        project                  timestart  \\\n",
       "0             2019-03-19-potential-fitting/dft/ 2019-03-19 12:34:21.453839   \n",
       "1   2019-03-19-potential-fitting/dft/murn_hdf5/ 2019-03-19 12:34:22.341560   \n",
       "2   2019-03-19-potential-fitting/dft/murn_hdf5/ 2019-03-19 12:34:23.876368   \n",
       "3   2019-03-19-potential-fitting/dft/murn_hdf5/ 2019-03-19 12:34:25.642945   \n",
       "4   2019-03-19-potential-fitting/dft/murn_hdf5/ 2019-03-19 12:34:27.130176   \n",
       "5   2019-03-19-potential-fitting/dft/murn_hdf5/ 2019-03-19 12:34:28.774276   \n",
       "6   2019-03-19-potential-fitting/dft/murn_hdf5/ 2019-03-19 12:34:30.357031   \n",
       "7   2019-03-19-potential-fitting/dft/murn_hdf5/ 2019-03-19 12:34:31.947362   \n",
       "8   2019-03-19-potential-fitting/dft/murn_hdf5/ 2019-03-19 12:34:33.531379   \n",
       "9   2019-03-19-potential-fitting/dft/murn_hdf5/ 2019-03-19 12:34:35.153611   \n",
       "10  2019-03-19-potential-fitting/dft/murn_hdf5/ 2019-03-19 12:34:36.822039   \n",
       "11  2019-03-19-potential-fitting/dft/murn_hdf5/ 2019-03-19 12:34:38.428442   \n",
       "\n",
       "                     timestop  totalcputime                          computer  \\\n",
       "0  2019-03-19 12:34:39.558371          18.0  pyiron@MacBook-Pro.local#1#11/11   \n",
       "1  2019-03-19 12:34:23.031180           0.0        pyiron@MacBook-Pro.local#1   \n",
       "2  2019-03-19 12:34:24.663445           0.0        pyiron@MacBook-Pro.local#1   \n",
       "3  2019-03-19 12:34:26.326081           0.0        pyiron@MacBook-Pro.local#1   \n",
       "4  2019-03-19 12:34:27.968296           0.0        pyiron@MacBook-Pro.local#1   \n",
       "5  2019-03-19 12:34:29.556422           0.0        pyiron@MacBook-Pro.local#1   \n",
       "6  2019-03-19 12:34:31.144887           0.0        pyiron@MacBook-Pro.local#1   \n",
       "7  2019-03-19 12:34:32.726684           0.0        pyiron@MacBook-Pro.local#1   \n",
       "8  2019-03-19 12:34:34.327368           0.0        pyiron@MacBook-Pro.local#1   \n",
       "9  2019-03-19 12:34:35.999023           0.0        pyiron@MacBook-Pro.local#1   \n",
       "10 2019-03-19 12:34:37.621577           0.0        pyiron@MacBook-Pro.local#1   \n",
       "11 2019-03-19 12:34:39.211223           0.0        pyiron@MacBook-Pro.local#1   \n",
       "\n",
       "     hamilton hamversion parentid  masterid  \n",
       "0   Murnaghan      0.3.0     None       NaN  \n",
       "1        Vasp        5.4     None    2398.0  \n",
       "2        Vasp        5.4     None    2398.0  \n",
       "3        Vasp        5.4     None    2398.0  \n",
       "4        Vasp        5.4     None    2398.0  \n",
       "5        Vasp        5.4     None    2398.0  \n",
       "6        Vasp        5.4     None    2398.0  \n",
       "7        Vasp        5.4     None    2398.0  \n",
       "8        Vasp        5.4     None    2398.0  \n",
       "9        Vasp        5.4     None    2398.0  \n",
       "10       Vasp        5.4     None    2398.0  \n",
       "11       Vasp        5.4     None    2398.0  "
      ]
     },
     "execution_count": 14,
     "metadata": {},
     "output_type": "execute_result"
    }
   ],
   "source": [
    "pr.job_table()"
   ]
  },
  {
   "cell_type": "markdown",
   "metadata": {
    "heading_collapsed": true
   },
   "source": [
    "## Or Import VASP calculation "
   ]
  },
  {
   "cell_type": "code",
   "execution_count": 15,
   "metadata": {
    "ExecuteTime": {
     "end_time": "2019-03-19T11:34:49.430465Z",
     "start_time": "2019-03-19T11:34:39.917187Z"
    },
    "hidden": true
   },
   "outputs": [],
   "source": [
    "for job in pr.iter_jobs():\n",
    "    job.decompress()"
   ]
  },
  {
   "cell_type": "code",
   "execution_count": 16,
   "metadata": {
    "ExecuteTime": {
     "end_time": "2019-03-19T11:34:49.449289Z",
     "start_time": "2019-03-19T11:34:49.442525Z"
    },
    "hidden": true
   },
   "outputs": [],
   "source": [
    "pr_import = Project('import')"
   ]
  },
  {
   "cell_type": "code",
   "execution_count": 17,
   "metadata": {
    "ExecuteTime": {
     "end_time": "2019-03-19T11:34:54.750469Z",
     "start_time": "2019-03-19T11:34:49.452515Z"
    },
    "hidden": true
   },
   "outputs": [
    {
     "name": "stdout",
     "output_type": "stream",
     "text": [
      "strain_0_98 strain_0_98\n",
      "job was stored with the job ID  2410\n",
      "strain_0_94 strain_0_94\n",
      "job was stored with the job ID  2411\n",
      "strain_1_0 strain_1_0\n",
      "job was stored with the job ID  2412\n",
      "strain_0_92 strain_0_92\n",
      "job was stored with the job ID  2413\n",
      "strain_0_9 strain_0_9\n",
      "job was stored with the job ID  2414\n",
      "strain_1_1 strain_1_1\n",
      "job was stored with the job ID  2415\n",
      "strain_1_06 strain_1_06\n",
      "job was stored with the job ID  2416\n",
      "strain_1_08 strain_1_08\n",
      "job was stored with the job ID  2417\n",
      "strain_1_04 strain_1_04\n",
      "job was stored with the job ID  2418\n",
      "strain_0_96 strain_0_96\n",
      "job was stored with the job ID  2419\n",
      "strain_1_02 strain_1_02\n",
      "job was stored with the job ID  2420\n"
     ]
    }
   ],
   "source": [
    "pr_import.import_from_path(path='dft', recursive=True)"
   ]
  },
  {
   "cell_type": "markdown",
   "metadata": {},
   "source": [
    "# Fit potential "
   ]
  },
  {
   "cell_type": "markdown",
   "metadata": {},
   "source": [
    "## Collect VASP calculation "
   ]
  },
  {
   "cell_type": "markdown",
   "metadata": {},
   "source": [
    "### Setup pyiron table"
   ]
  },
  {
   "cell_type": "code",
   "execution_count": 18,
   "metadata": {
    "ExecuteTime": {
     "end_time": "2019-03-19T11:34:54.782186Z",
     "start_time": "2019-03-19T11:34:54.774917Z"
    }
   },
   "outputs": [],
   "source": [
    "pr_fit = Project('fitting')"
   ]
  },
  {
   "cell_type": "code",
   "execution_count": 19,
   "metadata": {
    "ExecuteTime": {
     "end_time": "2019-03-19T11:34:54.839449Z",
     "start_time": "2019-03-19T11:34:54.788547Z"
    }
   },
   "outputs": [],
   "source": [
    "pyiron_table = pr_fit.create_job(job_type=pr_fit.job_type.TableJob, job_name='analysis')"
   ]
  },
  {
   "cell_type": "code",
   "execution_count": 20,
   "metadata": {
    "ExecuteTime": {
     "end_time": "2019-03-19T11:34:54.849246Z",
     "start_time": "2019-03-19T11:34:54.845112Z"
    }
   },
   "outputs": [],
   "source": [
    "pyiron_table.analysis_project = pr_import\n",
    "# pyiron_table.analysis_project = pr"
   ]
  },
  {
   "cell_type": "code",
   "execution_count": 21,
   "metadata": {
    "ExecuteTime": {
     "end_time": "2019-03-19T11:34:54.866738Z",
     "start_time": "2019-03-19T11:34:54.855129Z"
    }
   },
   "outputs": [
    {
     "data": {
      "text/plain": [
       "True"
      ]
     },
     "execution_count": 21,
     "metadata": {},
     "output_type": "execute_result"
    }
   ],
   "source": [
    "pyiron_table.add.get_structure\n",
    "pyiron_table.add.get_energy_tot\n",
    "pyiron_table.add.get_forces\n",
    "pyiron_table.add.get_job_name"
   ]
  },
  {
   "cell_type": "code",
   "execution_count": 22,
   "metadata": {
    "ExecuteTime": {
     "end_time": "2019-03-19T11:34:54.878560Z",
     "start_time": "2019-03-19T11:34:54.870954Z"
    }
   },
   "outputs": [],
   "source": [
    "pyiron_table.filter_function = pyiron_table.filter.job_type(pr.job_type.Vasp)"
   ]
  },
  {
   "cell_type": "code",
   "execution_count": 23,
   "metadata": {
    "ExecuteTime": {
     "end_time": "2019-03-19T11:35:05.076169Z",
     "start_time": "2019-03-19T11:34:54.883575Z"
    }
   },
   "outputs": [
    {
     "name": "stdout",
     "output_type": "stream",
     "text": [
      "The job analysis was saved and received the ID: 2421\n"
     ]
    }
   ],
   "source": [
    "pyiron_table.run()"
   ]
  },
  {
   "cell_type": "markdown",
   "metadata": {},
   "source": [
    "### Summary"
   ]
  },
  {
   "cell_type": "code",
   "execution_count": 24,
   "metadata": {
    "ExecuteTime": {
     "end_time": "2019-03-19T11:35:05.099186Z",
     "start_time": "2019-03-19T11:35:05.086224Z"
    }
   },
   "outputs": [
    {
     "data": {
      "text/html": [
       "<div>\n",
       "<style scoped>\n",
       "    .dataframe tbody tr th:only-of-type {\n",
       "        vertical-align: middle;\n",
       "    }\n",
       "\n",
       "    .dataframe tbody tr th {\n",
       "        vertical-align: top;\n",
       "    }\n",
       "\n",
       "    .dataframe thead th {\n",
       "        text-align: right;\n",
       "    }\n",
       "</style>\n",
       "<table border=\"1\" class=\"dataframe\">\n",
       "  <thead>\n",
       "    <tr style=\"text-align: right;\">\n",
       "      <th></th>\n",
       "      <th>energy_tot</th>\n",
       "      <th>forces</th>\n",
       "      <th>job_name</th>\n",
       "      <th>structure</th>\n",
       "    </tr>\n",
       "  </thead>\n",
       "  <tbody>\n",
       "    <tr>\n",
       "      <th>4</th>\n",
       "      <td>-3.635028</td>\n",
       "      <td>[[0.0, -0.0, -0.0]]</td>\n",
       "      <td>strain_0_9</td>\n",
       "      <td>{\"symbols\": [\"Al\"], \"positions\": [[0.0, 0.0, 0.0]], \"cell\": [[0.0, 1.955116, 1.955116], [1.955116, 0.0, 1.955116], [1.955116, 1.955116, 0.0]], \"pbc\": [true, true, true], \"celldisp\": [[0.0], [0.0],...</td>\n",
       "    </tr>\n",
       "    <tr>\n",
       "      <th>3</th>\n",
       "      <td>-3.654296</td>\n",
       "      <td>[[0.0, 0.0, 0.0]]</td>\n",
       "      <td>strain_0_92</td>\n",
       "      <td>{\"symbols\": [\"Al\"], \"positions\": [[0.0, 0.0, 0.0]], \"cell\": [[0.0, 1.969492, 1.969492], [1.969492, 0.0, 1.969492], [1.969492, 1.969492, 0.0]], \"pbc\": [true, true, true], \"celldisp\": [[0.0], [0.0],...</td>\n",
       "    </tr>\n",
       "    <tr>\n",
       "      <th>1</th>\n",
       "      <td>-3.668492</td>\n",
       "      <td>[[0.0, 0.0, 0.0]]</td>\n",
       "      <td>strain_0_94</td>\n",
       "      <td>{\"symbols\": [\"Al\"], \"positions\": [[0.0, 0.0, 0.0]], \"cell\": [[0.0, 1.983662, 1.983662], [1.983662, 0.0, 1.983662], [1.983662, 1.983662, 0.0]], \"pbc\": [true, true, true], \"celldisp\": [[0.0], [0.0],...</td>\n",
       "    </tr>\n",
       "    <tr>\n",
       "      <th>9</th>\n",
       "      <td>-3.678213</td>\n",
       "      <td>[[-0.0, -0.0, -0.0]]</td>\n",
       "      <td>strain_0_96</td>\n",
       "      <td>{\"symbols\": [\"Al\"], \"positions\": [[0.0, 0.0, 0.0]], \"cell\": [[0.0, 1.997632, 1.997632], [1.997632, 0.0, 1.997632], [1.997632, 1.997632, 0.0]], \"pbc\": [true, true, true], \"celldisp\": [[0.0], [0.0],...</td>\n",
       "    </tr>\n",
       "    <tr>\n",
       "      <th>0</th>\n",
       "      <td>-3.683442</td>\n",
       "      <td>[[0.0, 0.0, 0.0]]</td>\n",
       "      <td>strain_0_98</td>\n",
       "      <td>{\"symbols\": [\"Al\"], \"positions\": [[0.0, 0.0, 0.0]], \"cell\": [[0.0, 2.011409, 2.011409], [2.011409, 0.0, 2.011409], [2.011409, 2.011409, 0.0]], \"pbc\": [true, true, true], \"celldisp\": [[0.0], [0.0],...</td>\n",
       "    </tr>\n",
       "    <tr>\n",
       "      <th>2</th>\n",
       "      <td>-3.685158</td>\n",
       "      <td>[[0.0, 0.0, -0.0]]</td>\n",
       "      <td>strain_1_0</td>\n",
       "      <td>{\"symbols\": [\"Al\"], \"positions\": [[0.0, 0.0, 0.0]], \"cell\": [[0.0, 2.025, 2.025], [2.025, 0.0, 2.025], [2.025, 2.025, 0.0]], \"pbc\": [true, true, true], \"celldisp\": [[0.0], [0.0], [0.0]], \"magmoms\"...</td>\n",
       "    </tr>\n",
       "    <tr>\n",
       "      <th>10</th>\n",
       "      <td>-3.683596</td>\n",
       "      <td>[[0.0, 0.0, 0.0]]</td>\n",
       "      <td>strain_1_02</td>\n",
       "      <td>{\"symbols\": [\"Al\"], \"positions\": [[0.0, 0.0, 0.0]], \"cell\": [[0.0, 2.038411, 2.038411], [2.038411, 0.0, 2.038411], [2.038411, 2.038411, 0.0]], \"pbc\": [true, true, true], \"celldisp\": [[0.0], [0.0],...</td>\n",
       "    </tr>\n",
       "    <tr>\n",
       "      <th>8</th>\n",
       "      <td>-3.678632</td>\n",
       "      <td>[[0.0, 0.0, 0.0]]</td>\n",
       "      <td>strain_1_04</td>\n",
       "      <td>{\"symbols\": [\"Al\"], \"positions\": [[0.0, 0.0, 0.0]], \"cell\": [[0.0, 2.051648, 2.051648], [2.051648, 0.0, 2.051648], [2.051648, 2.051648, 0.0]], \"pbc\": [true, true, true], \"celldisp\": [[0.0], [0.0],...</td>\n",
       "    </tr>\n",
       "    <tr>\n",
       "      <th>6</th>\n",
       "      <td>-3.671488</td>\n",
       "      <td>[[0.0, 0.0, 0.0]]</td>\n",
       "      <td>strain_1_06</td>\n",
       "      <td>{\"symbols\": [\"Al\"], \"positions\": [[0.0, 0.0, 0.0]], \"cell\": [[0.0, 2.064716, 2.064716], [2.064716, 0.0, 2.064716], [2.064716, 2.064716, 0.0]], \"pbc\": [true, true, true], \"celldisp\": [[0.0], [0.0],...</td>\n",
       "    </tr>\n",
       "    <tr>\n",
       "      <th>7</th>\n",
       "      <td>-3.661704</td>\n",
       "      <td>[[0.0, 0.0, 0.0]]</td>\n",
       "      <td>strain_1_08</td>\n",
       "      <td>{\"symbols\": [\"Al\"], \"positions\": [[0.0, 0.0, 0.0]], \"cell\": [[0.0, 2.077621, 2.077621], [2.077621, 0.0, 2.077621], [2.077621, 2.077621, 0.0]], \"pbc\": [true, true, true], \"celldisp\": [[0.0], [0.0],...</td>\n",
       "    </tr>\n",
       "    <tr>\n",
       "      <th>5</th>\n",
       "      <td>-3.649858</td>\n",
       "      <td>[[-0.0, 0.0, -0.0]]</td>\n",
       "      <td>strain_1_1</td>\n",
       "      <td>{\"symbols\": [\"Al\"], \"positions\": [[0.0, 0.0, 0.0]], \"cell\": [[0.0, 2.090367, 2.090367], [2.090367, 0.0, 2.090367], [2.090367, 2.090367, 0.0]], \"pbc\": [true, true, true], \"celldisp\": [[0.0], [0.0],...</td>\n",
       "    </tr>\n",
       "  </tbody>\n",
       "</table>\n",
       "</div>"
      ],
      "text/plain": [
       "    energy_tot                forces     job_name  \\\n",
       "4    -3.635028   [[0.0, -0.0, -0.0]]   strain_0_9   \n",
       "3    -3.654296     [[0.0, 0.0, 0.0]]  strain_0_92   \n",
       "1    -3.668492     [[0.0, 0.0, 0.0]]  strain_0_94   \n",
       "9    -3.678213  [[-0.0, -0.0, -0.0]]  strain_0_96   \n",
       "0    -3.683442     [[0.0, 0.0, 0.0]]  strain_0_98   \n",
       "2    -3.685158    [[0.0, 0.0, -0.0]]   strain_1_0   \n",
       "10   -3.683596     [[0.0, 0.0, 0.0]]  strain_1_02   \n",
       "8    -3.678632     [[0.0, 0.0, 0.0]]  strain_1_04   \n",
       "6    -3.671488     [[0.0, 0.0, 0.0]]  strain_1_06   \n",
       "7    -3.661704     [[0.0, 0.0, 0.0]]  strain_1_08   \n",
       "5    -3.649858   [[-0.0, 0.0, -0.0]]   strain_1_1   \n",
       "\n",
       "                                                                                                                                                                                                  structure  \n",
       "4   {\"symbols\": [\"Al\"], \"positions\": [[0.0, 0.0, 0.0]], \"cell\": [[0.0, 1.955116, 1.955116], [1.955116, 0.0, 1.955116], [1.955116, 1.955116, 0.0]], \"pbc\": [true, true, true], \"celldisp\": [[0.0], [0.0],...  \n",
       "3   {\"symbols\": [\"Al\"], \"positions\": [[0.0, 0.0, 0.0]], \"cell\": [[0.0, 1.969492, 1.969492], [1.969492, 0.0, 1.969492], [1.969492, 1.969492, 0.0]], \"pbc\": [true, true, true], \"celldisp\": [[0.0], [0.0],...  \n",
       "1   {\"symbols\": [\"Al\"], \"positions\": [[0.0, 0.0, 0.0]], \"cell\": [[0.0, 1.983662, 1.983662], [1.983662, 0.0, 1.983662], [1.983662, 1.983662, 0.0]], \"pbc\": [true, true, true], \"celldisp\": [[0.0], [0.0],...  \n",
       "9   {\"symbols\": [\"Al\"], \"positions\": [[0.0, 0.0, 0.0]], \"cell\": [[0.0, 1.997632, 1.997632], [1.997632, 0.0, 1.997632], [1.997632, 1.997632, 0.0]], \"pbc\": [true, true, true], \"celldisp\": [[0.0], [0.0],...  \n",
       "0   {\"symbols\": [\"Al\"], \"positions\": [[0.0, 0.0, 0.0]], \"cell\": [[0.0, 2.011409, 2.011409], [2.011409, 0.0, 2.011409], [2.011409, 2.011409, 0.0]], \"pbc\": [true, true, true], \"celldisp\": [[0.0], [0.0],...  \n",
       "2   {\"symbols\": [\"Al\"], \"positions\": [[0.0, 0.0, 0.0]], \"cell\": [[0.0, 2.025, 2.025], [2.025, 0.0, 2.025], [2.025, 2.025, 0.0]], \"pbc\": [true, true, true], \"celldisp\": [[0.0], [0.0], [0.0]], \"magmoms\"...  \n",
       "10  {\"symbols\": [\"Al\"], \"positions\": [[0.0, 0.0, 0.0]], \"cell\": [[0.0, 2.038411, 2.038411], [2.038411, 0.0, 2.038411], [2.038411, 2.038411, 0.0]], \"pbc\": [true, true, true], \"celldisp\": [[0.0], [0.0],...  \n",
       "8   {\"symbols\": [\"Al\"], \"positions\": [[0.0, 0.0, 0.0]], \"cell\": [[0.0, 2.051648, 2.051648], [2.051648, 0.0, 2.051648], [2.051648, 2.051648, 0.0]], \"pbc\": [true, true, true], \"celldisp\": [[0.0], [0.0],...  \n",
       "6   {\"symbols\": [\"Al\"], \"positions\": [[0.0, 0.0, 0.0]], \"cell\": [[0.0, 2.064716, 2.064716], [2.064716, 0.0, 2.064716], [2.064716, 2.064716, 0.0]], \"pbc\": [true, true, true], \"celldisp\": [[0.0], [0.0],...  \n",
       "7   {\"symbols\": [\"Al\"], \"positions\": [[0.0, 0.0, 0.0]], \"cell\": [[0.0, 2.077621, 2.077621], [2.077621, 0.0, 2.077621], [2.077621, 2.077621, 0.0]], \"pbc\": [true, true, true], \"celldisp\": [[0.0], [0.0],...  \n",
       "5   {\"symbols\": [\"Al\"], \"positions\": [[0.0, 0.0, 0.0]], \"cell\": [[0.0, 2.090367, 2.090367], [2.090367, 0.0, 2.090367], [2.090367, 2.090367, 0.0]], \"pbc\": [true, true, true], \"celldisp\": [[0.0], [0.0],...  "
      ]
     },
     "execution_count": 24,
     "metadata": {},
     "output_type": "execute_result"
    }
   ],
   "source": [
    "df_fit = pyiron_table.get_dataframe().sort_values(by='job_name')\n",
    "df_fit"
   ]
  },
  {
   "cell_type": "markdown",
   "metadata": {},
   "source": [
    "## Fit lennard jones potential "
   ]
  },
  {
   "cell_type": "markdown",
   "metadata": {},
   "source": [
    "### Define Fit functions "
   ]
  },
  {
   "cell_type": "code",
   "execution_count": 25,
   "metadata": {
    "ExecuteTime": {
     "end_time": "2019-03-19T11:35:05.108827Z",
     "start_time": "2019-03-19T11:35:05.102303Z"
    }
   },
   "outputs": [],
   "source": [
    "def set_structure_run_and_get_energy_and_forces(job, structure): \n",
    "    job.structure = structure \n",
    "    job.run()\n",
    "    return job.output.energy_tot[-1], job.output.forces[-1] "
   ]
  },
  {
   "cell_type": "code",
   "execution_count": 26,
   "metadata": {
    "ExecuteTime": {
     "end_time": "2019-03-19T11:35:05.117430Z",
     "start_time": "2019-03-19T11:35:05.111729Z"
    }
   },
   "outputs": [],
   "source": [
    "def get_potential(eps, sigma, cutoff=10.0):\n",
    "    return pd.DataFrame({'Name': ['Al3ScLennardJones'],\n",
    "                         'Filename': [[]],                             \n",
    "                         'Model'   : ['LJ'], \n",
    "                         'Species' : [['Al']], \n",
    "                         'Config'  : [['pair_style lj/cut %f \\n'%cutoff, \n",
    "                                       'pair_coeff 1 1 %.16f %.16f \\n'%(eps, sigma)]]})"
   ]
  },
  {
   "cell_type": "code",
   "execution_count": 27,
   "metadata": {
    "ExecuteTime": {
     "end_time": "2019-03-19T11:35:05.127839Z",
     "start_time": "2019-03-19T11:35:05.121235Z"
    }
   },
   "outputs": [],
   "source": [
    "def compute_lj(job_lj, structure_lst, energy_lst, forces_lst, eps, sigma, cutoff=10.0, force_weight=0.1):\n",
    "    method_dict['eps'].append(eps)\n",
    "    method_dict['sigma'].append(sigma)\n",
    "    job_lj.potential = get_potential(eps, sigma, cutoff)\n",
    "    lj_energy_lst, lj_force_lst = zip(*[set_structure_run_and_get_energy_and_forces(job_lj, structure) for structure in structure_lst])\n",
    "    total_loss = (np.linalg.norm(np.array(energy_lst) - np.array(lj_energy_lst))) + force_weight*np.linalg.norm(np.array(forces_lst) - np.array(lj_force_lst))\n",
    "    method_dict['loss'].append(total_loss)\n",
    "    return total_loss"
   ]
  },
  {
   "cell_type": "code",
   "execution_count": 28,
   "metadata": {
    "ExecuteTime": {
     "end_time": "2019-03-19T11:35:05.135858Z",
     "start_time": "2019-03-19T11:35:05.131312Z"
    }
   },
   "outputs": [],
   "source": [
    "def loss(initial_params): \n",
    "    eps, sigma = initial_params\n",
    "    return compute_lj(job_lj=job_lj, \n",
    "                      structure_lst=structure_lst, \n",
    "                      energy_lst=energy_tot,\n",
    "                      eps=eps, \n",
    "                      sigma=sigma, \n",
    "                      forces_lst=forces) "
   ]
  },
  {
   "cell_type": "markdown",
   "metadata": {},
   "source": [
    "### Datastructure "
   ]
  },
  {
   "cell_type": "code",
   "execution_count": 29,
   "metadata": {
    "ExecuteTime": {
     "end_time": "2019-03-19T11:35:05.143603Z",
     "start_time": "2019-03-19T11:35:05.139868Z"
    }
   },
   "outputs": [],
   "source": [
    "method_dict = {'eps': [], 'sigma': [], 'loss': []}"
   ]
  },
  {
   "cell_type": "code",
   "execution_count": 30,
   "metadata": {
    "ExecuteTime": {
     "end_time": "2019-03-19T11:35:05.265333Z",
     "start_time": "2019-03-19T11:35:05.146745Z"
    }
   },
   "outputs": [],
   "source": [
    "energy_tot = df_fit.energy_tot.values\n",
    "# energy_tot -= np.min(energy_tot)  # normalise to the equlibrium energy \n",
    "structure_lst = [Atoms(**json.loads(s)) for s in df_fit.structure.values]\n",
    "forces = np.array([json.loads(f) for f in df_fit.forces.values])"
   ]
  },
  {
   "cell_type": "markdown",
   "metadata": {},
   "source": [
    "### Run fitting "
   ]
  },
  {
   "cell_type": "code",
   "execution_count": 31,
   "metadata": {
    "ExecuteTime": {
     "end_time": "2019-03-19T11:35:05.292382Z",
     "start_time": "2019-03-19T11:35:05.266999Z"
    }
   },
   "outputs": [],
   "source": [
    "job_lj = pr_fit.create_job(job_name='lj_fitting', job_type=pr_fit.job_type.Lammps)\n",
    "job_lj.server.run_mode.interactive = True\n",
    "job_lj.interactive_enforce_structure_reset = True"
   ]
  },
  {
   "cell_type": "code",
   "execution_count": 32,
   "metadata": {
    "ExecuteTime": {
     "end_time": "2019-03-19T11:37:47.894115Z",
     "start_time": "2019-03-19T11:35:05.295568Z"
    }
   },
   "outputs": [
    {
     "name": "stdout",
     "output_type": "stream",
     "text": [
      "The job lj_fitting was saved and received the ID: 2422\n"
     ]
    },
    {
     "data": {
      "text/plain": [
       " final_simplex: (array([[0.44154765, 2.61407788],\n",
       "       [0.44154397, 2.61399567],\n",
       "       [0.44152627, 2.61400514]]), array([0.11945216, 0.1194532 , 0.11945385]))\n",
       "           fun: 0.11945215981707664\n",
       "       message: 'Optimization terminated successfully.'\n",
       "          nfev: 56\n",
       "           nit: 28\n",
       "        status: 0\n",
       "       success: True\n",
       "             x: array([0.44154765, 2.61407788])"
      ]
     },
     "execution_count": 32,
     "metadata": {},
     "output_type": "execute_result"
    }
   ],
   "source": [
    "res = minimize(loss, [0.5, 2.5], method='Nelder-Mead')\n",
    "res"
   ]
  },
  {
   "cell_type": "code",
   "execution_count": 33,
   "metadata": {
    "ExecuteTime": {
     "end_time": "2019-03-19T11:37:47.901364Z",
     "start_time": "2019-03-19T11:37:47.896817Z"
    }
   },
   "outputs": [
    {
     "data": {
      "text/plain": [
       "True"
      ]
     },
     "execution_count": 33,
     "metadata": {},
     "output_type": "execute_result"
    }
   ],
   "source": [
    "res.success"
   ]
  },
  {
   "cell_type": "code",
   "execution_count": 34,
   "metadata": {
    "ExecuteTime": {
     "end_time": "2019-03-19T11:37:47.910190Z",
     "start_time": "2019-03-19T11:37:47.905746Z"
    }
   },
   "outputs": [],
   "source": [
    "eps_final, sigma_final = res.x "
   ]
  },
  {
   "cell_type": "code",
   "execution_count": 35,
   "metadata": {
    "ExecuteTime": {
     "end_time": "2019-03-19T11:37:49.080651Z",
     "start_time": "2019-03-19T11:37:47.914561Z"
    }
   },
   "outputs": [],
   "source": [
    "job_lj.interactive_close()"
   ]
  },
  {
   "cell_type": "markdown",
   "metadata": {},
   "source": [
    "### Plots "
   ]
  },
  {
   "cell_type": "code",
   "execution_count": 36,
   "metadata": {
    "ExecuteTime": {
     "end_time": "2019-03-19T11:37:49.418060Z",
     "start_time": "2019-03-19T11:37:49.082166Z"
    }
   },
   "outputs": [
    {
     "data": {
      "text/plain": [
       "Text(0.5, 0, 'iteration')"
      ]
     },
     "execution_count": 36,
     "metadata": {},
     "output_type": "execute_result"
    },
    {
     "data": {
      "image/png": "[encoded data removed]",
      "text/plain": [
       "<Figure size 432x288 with 1 Axes>"
      ]
     },
     "metadata": {
      "needs_background": "light"
     },
     "output_type": "display_data"
    }
   ],
   "source": [
    "plt.plot(method_dict['eps'])\n",
    "plt.plot([len(method_dict['eps'])], [eps_final], 'x')\n",
    "plt.title('eps')\n",
    "plt.xlabel('iteration')"
   ]
  },
  {
   "cell_type": "code",
   "execution_count": 37,
   "metadata": {
    "ExecuteTime": {
     "end_time": "2019-03-19T11:37:49.617349Z",
     "start_time": "2019-03-19T11:37:49.422020Z"
    }
   },
   "outputs": [
    {
     "data": {
      "text/plain": [
       "Text(0.5, 0, 'iteration')"
      ]
     },
     "execution_count": 37,
     "metadata": {},
     "output_type": "execute_result"
    },
    {
     "data": {
      "image/png": "[encoded data removed]",
      "text/plain": [
       "<Figure size 432x288 with 1 Axes>"
      ]
     },
     "metadata": {
      "needs_background": "light"
     },
     "output_type": "display_data"
    }
   ],
   "source": [
    "plt.plot(method_dict['sigma'])\n",
    "plt.plot([len(method_dict['sigma'])], [sigma_final], 'x')\n",
    "plt.title('sigma')\n",
    "plt.xlabel('iteration')"
   ]
  },
  {
   "cell_type": "code",
   "execution_count": 38,
   "metadata": {
    "ExecuteTime": {
     "end_time": "2019-03-19T11:37:50.039839Z",
     "start_time": "2019-03-19T11:37:49.621437Z"
    }
   },
   "outputs": [
    {
     "data": {
      "text/plain": [
       "Text(0.5, 0, 'iteration')"
      ]
     },
     "execution_count": 38,
     "metadata": {},
     "output_type": "execute_result"
    },
    {
     "data": {
      "image/png": "[encoded data removed]",
      "text/plain": [
       "<Figure size 432x288 with 1 Axes>"
      ]
     },
     "metadata": {
      "needs_background": "light"
     },
     "output_type": "display_data"
    }
   ],
   "source": [
    "plt.plot(method_dict['loss'])\n",
    "plt.title('loss')\n",
    "plt.yscale('log')\n",
    "plt.xlabel('iteration')"
   ]
  },
  {
   "cell_type": "markdown",
   "metadata": {},
   "source": [
    "### Validation "
   ]
  },
  {
   "cell_type": "code",
   "execution_count": 39,
   "metadata": {
    "ExecuteTime": {
     "end_time": "2019-03-19T11:37:50.070003Z",
     "start_time": "2019-03-19T11:37:50.042958Z"
    }
   },
   "outputs": [],
   "source": [
    "job_lj = pr_fit.create_job(job_name='lj_validation', job_type=pr_fit.job_type.Lammps)\n",
    "job_lj.server.run_mode.interactive = True\n",
    "job_lj.interactive_enforce_structure_reset = True"
   ]
  },
  {
   "cell_type": "code",
   "execution_count": 40,
   "metadata": {
    "ExecuteTime": {
     "end_time": "2019-03-19T11:37:50.076642Z",
     "start_time": "2019-03-19T11:37:50.072730Z"
    }
   },
   "outputs": [],
   "source": [
    "job_lj.potential = get_potential(eps=eps_final, sigma=sigma_final, cutoff=10.0)"
   ]
  },
  {
   "cell_type": "code",
   "execution_count": 41,
   "metadata": {
    "ExecuteTime": {
     "end_time": "2019-03-19T11:37:50.092691Z",
     "start_time": "2019-03-19T11:37:50.079866Z"
    }
   },
   "outputs": [],
   "source": [
    "job_lj.structure = structure_lst[len(structure_lst)//2]"
   ]
  },
  {
   "cell_type": "code",
   "execution_count": 42,
   "metadata": {
    "ExecuteTime": {
     "end_time": "2019-03-19T11:37:50.108435Z",
     "start_time": "2019-03-19T11:37:50.094252Z"
    }
   },
   "outputs": [],
   "source": [
    "murn = job_lj.create_job(job_type=pr_fit.job_type.Murnaghan, job_name='murn')"
   ]
  },
  {
   "cell_type": "code",
   "execution_count": 43,
   "metadata": {
    "ExecuteTime": {
     "end_time": "2019-03-19T11:37:53.933825Z",
     "start_time": "2019-03-19T11:37:50.111140Z"
    }
   },
   "outputs": [
    {
     "name": "stdout",
     "output_type": "stream",
     "text": [
      "The job murn was saved and received the ID: 2423\n",
      "The job lj_validation was saved and received the ID: 2424\n"
     ]
    }
   ],
   "source": [
    "murn.run()"
   ]
  },
  {
   "cell_type": "code",
   "execution_count": 44,
   "metadata": {
    "ExecuteTime": {
     "end_time": "2019-03-19T11:37:54.233972Z",
     "start_time": "2019-03-19T11:37:53.936841Z"
    }
   },
   "outputs": [
    {
     "data": {
      "image/png": "[encoded data removed]",
      "text/plain": [
       "<Figure size 432x288 with 1 Axes>"
      ]
     },
     "metadata": {
      "needs_background": "light"
     },
     "output_type": "display_data"
    }
   ],
   "source": [
    "murn.plot()"
   ]
  },
  {
   "cell_type": "markdown",
   "metadata": {},
   "source": [
    "# Debugging "
   ]
  },
  {
   "cell_type": "code",
   "execution_count": 45,
   "metadata": {
    "ExecuteTime": {
     "end_time": "2019-03-19T11:37:54.282713Z",
     "start_time": "2019-03-19T11:37:54.237842Z"
    }
   },
   "outputs": [
    {
     "data": {
      "text/plain": [
       "array([-3.58292728, -3.63394375, -3.6827582 , -3.71242633, -3.72607444,\n",
       "       -3.7263373 , -3.71543946, -3.68870451, -3.66108574, -3.62711768,\n",
       "       -3.58794757])"
      ]
     },
     "execution_count": 45,
     "metadata": {},
     "output_type": "execute_result"
    }
   ],
   "source": [
    "murn['output/energy']"
   ]
  },
  {
   "cell_type": "code",
   "execution_count": 46,
   "metadata": {
    "ExecuteTime": {
     "end_time": "2019-03-19T11:37:54.303921Z",
     "start_time": "2019-03-19T11:37:54.286711Z"
    }
   },
   "outputs": [
    {
     "data": {
      "text/plain": [
       "array([-3.63502768, -3.65429628, -3.66849226, -3.67821311, -3.68344159,\n",
       "       -3.68515838, -3.68359552, -3.67863192, -3.67148812, -3.66170397,\n",
       "       -3.64985766])"
      ]
     },
     "execution_count": 46,
     "metadata": {},
     "output_type": "execute_result"
    }
   ],
   "source": [
    "energy_tot"
   ]
  },
  {
   "cell_type": "code",
   "execution_count": 47,
   "metadata": {
    "ExecuteTime": {
     "end_time": "2019-03-19T11:37:54.353706Z",
     "start_time": "2019-03-19T11:37:54.316100Z"
    }
   },
   "outputs": [
    {
     "data": {
      "text/plain": [
       "array([ True,  True,  True,  True,  True,  True,  True,  True,  True,\n",
       "        True,  True])"
      ]
     },
     "execution_count": 47,
     "metadata": {},
     "output_type": "execute_result"
    }
   ],
   "source": [
    "np.isclose(np.array([s.get_volume() for s in structure_lst]), murn['output/volume'])"
   ]
  },
  {
   "cell_type": "code",
   "execution_count": 48,
   "metadata": {
    "ExecuteTime": {
     "end_time": "2019-03-19T11:37:54.399214Z",
     "start_time": "2019-03-19T11:37:54.362560Z"
    }
   },
   "outputs": [
    {
     "data": {
      "text/plain": [
       "[Al: [0. 0. 0.]\n",
       " tags: \n",
       "     spin: [(0: nan)]\n",
       " pbc: [ True  True  True]\n",
       " cell: \n",
       " [[0.       1.955116 1.955116]\n",
       "  [1.955116 0.       1.955116]\n",
       "  [1.955116 1.955116 0.      ]], Al: [0. 0. 0.]\n",
       " tags: \n",
       "     spin: [(0: nan)]\n",
       " pbc: [ True  True  True]\n",
       " cell: \n",
       " [[0.       1.969492 1.969492]\n",
       "  [1.969492 0.       1.969492]\n",
       "  [1.969492 1.969492 0.      ]], Al: [0. 0. 0.]\n",
       " tags: \n",
       "     spin: [(0: nan)]\n",
       " pbc: [ True  True  True]\n",
       " cell: \n",
       " [[0.       1.983662 1.983662]\n",
       "  [1.983662 0.       1.983662]\n",
       "  [1.983662 1.983662 0.      ]], Al: [0. 0. 0.]\n",
       " tags: \n",
       "     spin: [(0: nan)]\n",
       " pbc: [ True  True  True]\n",
       " cell: \n",
       " [[0.       1.997632 1.997632]\n",
       "  [1.997632 0.       1.997632]\n",
       "  [1.997632 1.997632 0.      ]], Al: [0. 0. 0.]\n",
       " tags: \n",
       "     spin: [(0: nan)]\n",
       " pbc: [ True  True  True]\n",
       " cell: \n",
       " [[0.       2.011409 2.011409]\n",
       "  [2.011409 0.       2.011409]\n",
       "  [2.011409 2.011409 0.      ]], Al: [0. 0. 0.]\n",
       " tags: \n",
       "     spin: [(0: nan)]\n",
       " pbc: [ True  True  True]\n",
       " cell: \n",
       " [[0.    2.025 2.025]\n",
       "  [2.025 0.    2.025]\n",
       "  [2.025 2.025 0.   ]], Al: [0. 0. 0.]\n",
       " tags: \n",
       "     spin: [(0: nan)]\n",
       " pbc: [ True  True  True]\n",
       " cell: \n",
       " [[0.       2.038411 2.038411]\n",
       "  [2.038411 0.       2.038411]\n",
       "  [2.038411 2.038411 0.      ]], Al: [0. 0. 0.]\n",
       " tags: \n",
       "     spin: [(0: nan)]\n",
       " pbc: [ True  True  True]\n",
       " cell: \n",
       " [[0.       2.051648 2.051648]\n",
       "  [2.051648 0.       2.051648]\n",
       "  [2.051648 2.051648 0.      ]], Al: [0. 0. 0.]\n",
       " tags: \n",
       "     spin: [(0: nan)]\n",
       " pbc: [ True  True  True]\n",
       " cell: \n",
       " [[0.       2.064716 2.064716]\n",
       "  [2.064716 0.       2.064716]\n",
       "  [2.064716 2.064716 0.      ]], Al: [0. 0. 0.]\n",
       " tags: \n",
       "     spin: [(0: nan)]\n",
       " pbc: [ True  True  True]\n",
       " cell: \n",
       " [[0.       2.077621 2.077621]\n",
       "  [2.077621 0.       2.077621]\n",
       "  [2.077621 2.077621 0.      ]], Al: [0. 0. 0.]\n",
       " tags: \n",
       "     spin: [(0: nan)]\n",
       " pbc: [ True  True  True]\n",
       " cell: \n",
       " [[0.       2.090367 2.090367]\n",
       "  [2.090367 0.       2.090367]\n",
       "  [2.090367 2.090367 0.      ]]]"
      ]
     },
     "execution_count": 48,
     "metadata": {},
     "output_type": "execute_result"
    }
   ],
   "source": [
    "structure_lst"
   ]
  },
  {
   "cell_type": "code",
   "execution_count": 49,
   "metadata": {
    "ExecuteTime": {
     "end_time": "2019-03-19T11:37:54.418489Z",
     "start_time": "2019-03-19T11:37:54.403566Z"
    }
   },
   "outputs": [
    {
     "data": {
      "text/plain": [
       "array([[[ 0., -0., -0.]],\n",
       "\n",
       "       [[ 0.,  0.,  0.]],\n",
       "\n",
       "       [[ 0.,  0.,  0.]],\n",
       "\n",
       "       [[-0., -0., -0.]],\n",
       "\n",
       "       [[ 0.,  0.,  0.]],\n",
       "\n",
       "       [[ 0.,  0., -0.]],\n",
       "\n",
       "       [[ 0.,  0.,  0.]],\n",
       "\n",
       "       [[ 0.,  0.,  0.]],\n",
       "\n",
       "       [[ 0.,  0.,  0.]],\n",
       "\n",
       "       [[ 0.,  0.,  0.]],\n",
       "\n",
       "       [[-0.,  0., -0.]]])"
      ]
     },
     "execution_count": 49,
     "metadata": {},
     "output_type": "execute_result"
    }
   ],
   "source": [
    "forces"
   ]
  },
  {
   "cell_type": "code",
   "execution_count": 50,
   "metadata": {
    "ExecuteTime": {
     "end_time": "2019-03-19T11:37:54.443006Z",
     "start_time": "2019-03-19T11:37:54.422209Z"
    }
   },
   "outputs": [
    {
     "data": {
      "text/plain": [
       "{'eps': [0.5,\n",
       "  0.525,\n",
       "  0.5,\n",
       "  0.475,\n",
       "  0.44999999999999996,\n",
       "  0.44999999999999996,\n",
       "  0.4249999999999998,\n",
       "  0.3999999999999999,\n",
       "  0.475,\n",
       "  0.42499999999999993,\n",
       "  0.46249999999999997,\n",
       "  0.4624999999999999,\n",
       "  0.45312499999999994,\n",
       "  0.440625,\n",
       "  0.4296874999999999,\n",
       "  0.44375,\n",
       "  0.44843749999999993,\n",
       "  0.4359374999999999,\n",
       "  0.4488281249999999,\n",
       "  0.441015625,\n",
       "  0.43281250000000004,\n",
       "  0.44482421874999994,\n",
       "  0.4444335937499999,\n",
       "  0.4418701171875,\n",
       "  0.4460693359374999,\n",
       "  0.441986083984375,\n",
       "  0.4390319824218751,\n",
       "  0.4404800415039063,\n",
       "  0.4403640747070313,\n",
       "  0.4415805816650391,\n",
       "  0.44297065734863283,\n",
       "  0.44110269546508796,\n",
       "  0.44081315994262704,\n",
       "  0.4416058778762818,\n",
       "  0.44112799167633066,\n",
       "  0.441467434167862,\n",
       "  0.4419706165790559,\n",
       "  0.4417536363005639,\n",
       "  0.4418920800089838,\n",
       "  0.44157359562814247,\n",
       "  0.44142583720386036,\n",
       "  0.4412619376555086,\n",
       "  0.44145811945199964,\n",
       "  0.44154472658410676,\n",
       "  0.4413646859116853,\n",
       "  0.44154557988513266,\n",
       "  0.4416644692653791,\n",
       "  0.4416048112499994,\n",
       "  0.44160395794897345,\n",
       "  0.44156017440109285,\n",
       "  0.4415000897352003,\n",
       "  0.44152627011390005,\n",
       "  0.4415417179308861,\n",
       "  0.4415439744208016,\n",
       "  0.44151007013360877,\n",
       "  0.44154764833422183],\n",
       " 'sigma': [2.5,\n",
       "  2.5,\n",
       "  2.625,\n",
       "  2.625,\n",
       "  2.6875,\n",
       "  2.5625,\n",
       "  2.53125,\n",
       "  2.75,\n",
       "  2.5625,\n",
       "  2.6875,\n",
       "  2.59375,\n",
       "  2.46875,\n",
       "  2.6328125,\n",
       "  2.6015625,\n",
       "  2.60546875,\n",
       "  2.671875,\n",
       "  2.58984375,\n",
       "  2.55859375,\n",
       "  2.6142578125,\n",
       "  2.6259765625,\n",
       "  2.61328125,\n",
       "  2.614013671875,\n",
       "  2.589599609375,\n",
       "  2.61688232421875,\n",
       "  2.62933349609375,\n",
       "  2.6085052490234375,\n",
       "  2.6113739013671875,\n",
       "  2.6120338439941406,\n",
       "  2.620410919189453,\n",
       "  2.6114816665649414,\n",
       "  2.616330146789551,\n",
       "  2.613107919692993,\n",
       "  2.6077072620391846,\n",
       "  2.6145885586738586,\n",
       "  2.6162148118019104,\n",
       "  2.6126649528741837,\n",
       "  2.614145591855049,\n",
       "  2.613886173814535,\n",
       "  2.61580977961421,\n",
       "  2.6134511595591903,\n",
       "  2.6141535444185138,\n",
       "  2.614287229720503,\n",
       "  2.615290943533182,\n",
       "  2.6139111055526882,\n",
       "  2.6134760912973434,\n",
       "  2.61431044182973,\n",
       "  2.6140680029639043,\n",
       "  2.6140893883275567,\n",
       "  2.613690052050515,\n",
       "  2.614155344384926,\n",
       "  2.6139770616100577,\n",
       "  2.6140051432894325,\n",
       "  2.6142493821216704,\n",
       "  2.6139956746949338,\n",
       "  2.61384547359944,\n",
       "  2.6140778766885546],\n",
       " 'loss': [1.1072363237667964,\n",
       "  1.6913483978803319,\n",
       "  1.6027916916756453,\n",
       "  0.9196581777548902,\n",
       "  0.731963498240553,\n",
       "  0.35713909335070426,\n",
       "  0.9110815745623717,\n",
       "  2.9710598931688423,\n",
       "  0.8574402452175348,\n",
       "  1.1018092467636282,\n",
       "  0.5907595603226606,\n",
       "  0.8283670030738668,\n",
       "  0.34316443775837335,\n",
       "  0.15067243668290617,\n",
       "  0.35343699810944396,\n",
       "  0.5640821773023514,\n",
       "  0.2617323635448072,\n",
       "  0.46807247815962794,\n",
       "  0.23346505505670992,\n",
       "  0.15237113524714813,\n",
       "  0.26837065786229225,\n",
       "  0.14979809955537085,\n",
       "  0.2107241407210687,\n",
       "  0.1214330665758197,\n",
       "  0.19598463609203623,\n",
       "  0.12652631641264794,\n",
       "  0.1390019676229355,\n",
       "  0.12370318526183186,\n",
       "  0.13389682960206506,\n",
       "  0.12090692174331356,\n",
       "  0.12641058498151353,\n",
       "  0.12023096733605168,\n",
       "  0.12922128216299772,\n",
       "  0.1195210713658552,\n",
       "  0.12115698332360109,\n",
       "  0.11989115674521496,\n",
       "  0.12002560114876573,\n",
       "  0.11960232925344391,\n",
       "  0.12043387571289262,\n",
       "  0.11954006160943907,\n",
       "  0.11949959690839031,\n",
       "  0.11972319312285616,\n",
       "  0.11982432283639351,\n",
       "  0.11945743190551175,\n",
       "  0.11962072009071927,\n",
       "  0.11946532265589291,\n",
       "  0.11949787840140434,\n",
       "  0.11946366178186804,\n",
       "  0.11949697836219203,\n",
       "  0.11945449835537172,\n",
       "  0.11945967018926851,\n",
       "  0.11945384985507917,\n",
       "  0.11945962852841333,\n",
       "  0.11945319932222732,\n",
       "  0.11946581923620936,\n",
       "  0.11945215981707664]}"
      ]
     },
     "execution_count": 50,
     "metadata": {},
     "output_type": "execute_result"
    }
   ],
   "source": [
    "method_dict"
   ]
  }
 ],
 "metadata": {
  "kernelspec": {
   "display_name": "Python 3",
   "language": "python",
   "name": "python3"
  },
  "language_info": {
   "codemirror_mode": {
    "name": "ipython",
    "version": 3
   },
   "file_extension": ".py",
   "mimetype": "text/x-python",
   "name": "python",
   "nbconvert_exporter": "python",
   "pygments_lexer": "ipython3",
   "version": "3.7.1"
  },
  "toc": {
   "base_numbering": 1,
   "nav_menu": {},
   "number_sections": true,
   "sideBar": true,
   "skip_h1_title": false,
   "title_cell": "Table of Contents",
   "title_sidebar": "Contents",
   "toc_cell": false,
   "toc_position": {},
   "toc_section_display": true,
   "toc_window_display": true
  }
 },
 "nbformat": 4,
 "nbformat_minor": 2
}
